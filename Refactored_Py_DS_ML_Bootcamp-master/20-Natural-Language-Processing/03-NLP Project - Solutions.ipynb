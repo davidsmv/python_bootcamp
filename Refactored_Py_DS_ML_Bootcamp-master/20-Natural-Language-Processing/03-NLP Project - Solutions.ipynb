{
 "cells": [
  {
   "attachments": {},
   "cell_type": "markdown",
   "metadata": {},
   "source": [
    "___\n",
    "\n",
    "<a href='http://www.pieriandata.com'> <img src='../Pierian_Data_Logo.png' /></a>\n",
    "___"
   ]
  },
  {
   "attachments": {},
   "cell_type": "markdown",
   "metadata": {},
   "source": [
    "# Natural Language Processing Project\n",
    "\n",
    "Welcome to the NLP Project for this section of the course. In this NLP project you will be attempting to classify Yelp Reviews into 1 star or 5 star categories based off the text content in the reviews. This will be a simpler procedure than the lecture, since we will utilize the pipeline methods for more complex tasks.\n",
    "\n",
    "We will use the [Yelp Review Data Set from Kaggle](https://www.kaggle.com/c/yelp-recsys-2013).\n",
    "\n",
    "Each observation in this dataset is a review of a particular business by a particular user.\n",
    "\n",
    "The \"stars\" column is the number of stars (1 through 5) assigned by the reviewer to the business. (Higher stars is better.) In other words, it is the rating of the business by the person who wrote the review.\n",
    "\n",
    "The \"cool\" column is the number of \"cool\" votes this review received from other Yelp users. \n",
    "\n",
    "All reviews start with 0 \"cool\" votes, and there is no limit to how many \"cool\" votes a review can receive. In other words, it is a rating of the review itself, not a rating of the business.\n",
    "\n",
    "The \"useful\" and \"funny\" columns are similar to the \"cool\" column.\n",
    "\n",
    "Let's get started! Just follow the directions below!"
   ]
  },
  {
   "attachments": {},
   "cell_type": "markdown",
   "metadata": {},
   "source": [
    "## Imports\n",
    " **Import the usual suspects. :) **"
   ]
  },
  {
   "cell_type": "code",
   "execution_count": 1,
   "metadata": {
    "collapsed": true
   },
   "outputs": [],
   "source": [
    "import numpy as np\n",
    "import pandas as pd"
   ]
  },
  {
   "attachments": {},
   "cell_type": "markdown",
   "metadata": {},
   "source": [
    "## The Data\n",
    "\n",
    "**Read the yelp.csv file and set it as a dataframe called yelp.**"
   ]
  },
  {
   "cell_type": "code",
   "execution_count": 2,
   "metadata": {
    "collapsed": true
   },
   "outputs": [],
   "source": [
    "yelp = pd.read_csv('yelp.csv')"
   ]
  },
  {
   "attachments": {},
   "cell_type": "markdown",
   "metadata": {},
   "source": [
    "** Check the head, info , and describe methods on yelp.**"
   ]
  },
  {
   "cell_type": "code",
   "execution_count": 3,
   "metadata": {
    "collapsed": false
   },
   "outputs": [
    {
     "data": {
      "text/html": [
       "<div>\n",
       "<style scoped>\n",
       "    .dataframe tbody tr th:only-of-type {\n",
       "        vertical-align: middle;\n",
       "    }\n",
       "\n",
       "    .dataframe tbody tr th {\n",
       "        vertical-align: top;\n",
       "    }\n",
       "\n",
       "    .dataframe thead th {\n",
       "        text-align: right;\n",
       "    }\n",
       "</style>\n",
       "<table border=\"1\" class=\"dataframe\">\n",
       "  <thead>\n",
       "    <tr style=\"text-align: right;\">\n",
       "      <th></th>\n",
       "      <th>business_id</th>\n",
       "      <th>date</th>\n",
       "      <th>review_id</th>\n",
       "      <th>stars</th>\n",
       "      <th>text</th>\n",
       "      <th>type</th>\n",
       "      <th>user_id</th>\n",
       "      <th>cool</th>\n",
       "      <th>useful</th>\n",
       "      <th>funny</th>\n",
       "    </tr>\n",
       "  </thead>\n",
       "  <tbody>\n",
       "    <tr>\n",
       "      <th>0</th>\n",
       "      <td>9yKzy9PApeiPPOUJEtnvkg</td>\n",
       "      <td>2011-01-26</td>\n",
       "      <td>fWKvX83p0-ka4JS3dc6E5A</td>\n",
       "      <td>5</td>\n",
       "      <td>My wife took me here on my birthday for breakf...</td>\n",
       "      <td>review</td>\n",
       "      <td>rLtl8ZkDX5vH5nAx9C3q5Q</td>\n",
       "      <td>2</td>\n",
       "      <td>5</td>\n",
       "      <td>0</td>\n",
       "    </tr>\n",
       "    <tr>\n",
       "      <th>1</th>\n",
       "      <td>ZRJwVLyzEJq1VAihDhYiow</td>\n",
       "      <td>2011-07-27</td>\n",
       "      <td>IjZ33sJrzXqU-0X6U8NwyA</td>\n",
       "      <td>5</td>\n",
       "      <td>I have no idea why some people give bad review...</td>\n",
       "      <td>review</td>\n",
       "      <td>0a2KyEL0d3Yb1V6aivbIuQ</td>\n",
       "      <td>0</td>\n",
       "      <td>0</td>\n",
       "      <td>0</td>\n",
       "    </tr>\n",
       "    <tr>\n",
       "      <th>2</th>\n",
       "      <td>6oRAC4uyJCsJl1X0WZpVSA</td>\n",
       "      <td>2012-06-14</td>\n",
       "      <td>IESLBzqUCLdSzSqm0eCSxQ</td>\n",
       "      <td>4</td>\n",
       "      <td>love the gyro plate. Rice is so good and I als...</td>\n",
       "      <td>review</td>\n",
       "      <td>0hT2KtfLiobPvh6cDC8JQg</td>\n",
       "      <td>0</td>\n",
       "      <td>1</td>\n",
       "      <td>0</td>\n",
       "    </tr>\n",
       "    <tr>\n",
       "      <th>3</th>\n",
       "      <td>_1QQZuf4zZOyFCvXc0o6Vg</td>\n",
       "      <td>2010-05-27</td>\n",
       "      <td>G-WvGaISbqqaMHlNnByodA</td>\n",
       "      <td>5</td>\n",
       "      <td>Rosie, Dakota, and I LOVE Chaparral Dog Park!!...</td>\n",
       "      <td>review</td>\n",
       "      <td>uZetl9T0NcROGOyFfughhg</td>\n",
       "      <td>1</td>\n",
       "      <td>2</td>\n",
       "      <td>0</td>\n",
       "    </tr>\n",
       "    <tr>\n",
       "      <th>4</th>\n",
       "      <td>6ozycU1RpktNG2-1BroVtw</td>\n",
       "      <td>2012-01-05</td>\n",
       "      <td>1uJFq2r5QfJG_6ExMRCaGw</td>\n",
       "      <td>5</td>\n",
       "      <td>General Manager Scott Petello is a good egg!!!...</td>\n",
       "      <td>review</td>\n",
       "      <td>vYmM4KTsC8ZfQBg-j5MWkw</td>\n",
       "      <td>0</td>\n",
       "      <td>0</td>\n",
       "      <td>0</td>\n",
       "    </tr>\n",
       "  </tbody>\n",
       "</table>\n",
       "</div>"
      ],
      "text/plain": [
       "              business_id        date               review_id  stars   \n",
       "0  9yKzy9PApeiPPOUJEtnvkg  2011-01-26  fWKvX83p0-ka4JS3dc6E5A      5  \\\n",
       "1  ZRJwVLyzEJq1VAihDhYiow  2011-07-27  IjZ33sJrzXqU-0X6U8NwyA      5   \n",
       "2  6oRAC4uyJCsJl1X0WZpVSA  2012-06-14  IESLBzqUCLdSzSqm0eCSxQ      4   \n",
       "3  _1QQZuf4zZOyFCvXc0o6Vg  2010-05-27  G-WvGaISbqqaMHlNnByodA      5   \n",
       "4  6ozycU1RpktNG2-1BroVtw  2012-01-05  1uJFq2r5QfJG_6ExMRCaGw      5   \n",
       "\n",
       "                                                text    type   \n",
       "0  My wife took me here on my birthday for breakf...  review  \\\n",
       "1  I have no idea why some people give bad review...  review   \n",
       "2  love the gyro plate. Rice is so good and I als...  review   \n",
       "3  Rosie, Dakota, and I LOVE Chaparral Dog Park!!...  review   \n",
       "4  General Manager Scott Petello is a good egg!!!...  review   \n",
       "\n",
       "                  user_id  cool  useful  funny  \n",
       "0  rLtl8ZkDX5vH5nAx9C3q5Q     2       5      0  \n",
       "1  0a2KyEL0d3Yb1V6aivbIuQ     0       0      0  \n",
       "2  0hT2KtfLiobPvh6cDC8JQg     0       1      0  \n",
       "3  uZetl9T0NcROGOyFfughhg     1       2      0  \n",
       "4  vYmM4KTsC8ZfQBg-j5MWkw     0       0      0  "
      ]
     },
     "execution_count": 3,
     "metadata": {},
     "output_type": "execute_result"
    }
   ],
   "source": [
    "yelp.head()"
   ]
  },
  {
   "cell_type": "code",
   "execution_count": 4,
   "metadata": {
    "collapsed": false
   },
   "outputs": [
    {
     "name": "stdout",
     "output_type": "stream",
     "text": [
      "<class 'pandas.core.frame.DataFrame'>\n",
      "RangeIndex: 10000 entries, 0 to 9999\n",
      "Data columns (total 10 columns):\n",
      " #   Column       Non-Null Count  Dtype \n",
      "---  ------       --------------  ----- \n",
      " 0   business_id  10000 non-null  object\n",
      " 1   date         10000 non-null  object\n",
      " 2   review_id    10000 non-null  object\n",
      " 3   stars        10000 non-null  int64 \n",
      " 4   text         10000 non-null  object\n",
      " 5   type         10000 non-null  object\n",
      " 6   user_id      10000 non-null  object\n",
      " 7   cool         10000 non-null  int64 \n",
      " 8   useful       10000 non-null  int64 \n",
      " 9   funny        10000 non-null  int64 \n",
      "dtypes: int64(4), object(6)\n",
      "memory usage: 781.4+ KB\n"
     ]
    }
   ],
   "source": [
    "yelp.info()"
   ]
  },
  {
   "cell_type": "code",
   "execution_count": 5,
   "metadata": {
    "collapsed": false
   },
   "outputs": [
    {
     "data": {
      "text/html": [
       "<div>\n",
       "<style scoped>\n",
       "    .dataframe tbody tr th:only-of-type {\n",
       "        vertical-align: middle;\n",
       "    }\n",
       "\n",
       "    .dataframe tbody tr th {\n",
       "        vertical-align: top;\n",
       "    }\n",
       "\n",
       "    .dataframe thead th {\n",
       "        text-align: right;\n",
       "    }\n",
       "</style>\n",
       "<table border=\"1\" class=\"dataframe\">\n",
       "  <thead>\n",
       "    <tr style=\"text-align: right;\">\n",
       "      <th></th>\n",
       "      <th>stars</th>\n",
       "      <th>cool</th>\n",
       "      <th>useful</th>\n",
       "      <th>funny</th>\n",
       "    </tr>\n",
       "  </thead>\n",
       "  <tbody>\n",
       "    <tr>\n",
       "      <th>count</th>\n",
       "      <td>10000.000000</td>\n",
       "      <td>10000.000000</td>\n",
       "      <td>10000.000000</td>\n",
       "      <td>10000.000000</td>\n",
       "    </tr>\n",
       "    <tr>\n",
       "      <th>mean</th>\n",
       "      <td>3.777500</td>\n",
       "      <td>0.876800</td>\n",
       "      <td>1.409300</td>\n",
       "      <td>0.701300</td>\n",
       "    </tr>\n",
       "    <tr>\n",
       "      <th>std</th>\n",
       "      <td>1.214636</td>\n",
       "      <td>2.067861</td>\n",
       "      <td>2.336647</td>\n",
       "      <td>1.907942</td>\n",
       "    </tr>\n",
       "    <tr>\n",
       "      <th>min</th>\n",
       "      <td>1.000000</td>\n",
       "      <td>0.000000</td>\n",
       "      <td>0.000000</td>\n",
       "      <td>0.000000</td>\n",
       "    </tr>\n",
       "    <tr>\n",
       "      <th>25%</th>\n",
       "      <td>3.000000</td>\n",
       "      <td>0.000000</td>\n",
       "      <td>0.000000</td>\n",
       "      <td>0.000000</td>\n",
       "    </tr>\n",
       "    <tr>\n",
       "      <th>50%</th>\n",
       "      <td>4.000000</td>\n",
       "      <td>0.000000</td>\n",
       "      <td>1.000000</td>\n",
       "      <td>0.000000</td>\n",
       "    </tr>\n",
       "    <tr>\n",
       "      <th>75%</th>\n",
       "      <td>5.000000</td>\n",
       "      <td>1.000000</td>\n",
       "      <td>2.000000</td>\n",
       "      <td>1.000000</td>\n",
       "    </tr>\n",
       "    <tr>\n",
       "      <th>max</th>\n",
       "      <td>5.000000</td>\n",
       "      <td>77.000000</td>\n",
       "      <td>76.000000</td>\n",
       "      <td>57.000000</td>\n",
       "    </tr>\n",
       "  </tbody>\n",
       "</table>\n",
       "</div>"
      ],
      "text/plain": [
       "              stars          cool        useful         funny\n",
       "count  10000.000000  10000.000000  10000.000000  10000.000000\n",
       "mean       3.777500      0.876800      1.409300      0.701300\n",
       "std        1.214636      2.067861      2.336647      1.907942\n",
       "min        1.000000      0.000000      0.000000      0.000000\n",
       "25%        3.000000      0.000000      0.000000      0.000000\n",
       "50%        4.000000      0.000000      1.000000      0.000000\n",
       "75%        5.000000      1.000000      2.000000      1.000000\n",
       "max        5.000000     77.000000     76.000000     57.000000"
      ]
     },
     "execution_count": 5,
     "metadata": {},
     "output_type": "execute_result"
    }
   ],
   "source": [
    "yelp.describe()"
   ]
  },
  {
   "attachments": {},
   "cell_type": "markdown",
   "metadata": {},
   "source": [
    "**Create a new column called \"text length\" which is the number of words in the text column.**"
   ]
  },
  {
   "cell_type": "code",
   "execution_count": 6,
   "metadata": {
    "collapsed": true
   },
   "outputs": [],
   "source": [
    "yelp['text length'] = yelp['text'].apply(len)"
   ]
  },
  {
   "attachments": {},
   "cell_type": "markdown",
   "metadata": {},
   "source": [
    "# EDA\n",
    "\n",
    "Let's explore the data\n",
    "\n",
    "## Imports\n",
    "\n",
    "**Import the data visualization libraries if you haven't done so already.**"
   ]
  },
  {
   "cell_type": "code",
   "execution_count": 7,
   "metadata": {
    "collapsed": true
   },
   "outputs": [],
   "source": [
    "import matplotlib.pyplot as plt\n",
    "import seaborn as sns\n",
    "sns.set_style('white')\n",
    "%matplotlib inline"
   ]
  },
  {
   "attachments": {},
   "cell_type": "markdown",
   "metadata": {},
   "source": [
    "**Use FacetGrid from the seaborn library to create a grid of 5 histograms of text length based off of the star ratings. Reference the seaborn documentation for hints on this**"
   ]
  },
  {
   "cell_type": "code",
   "execution_count": 8,
   "metadata": {
    "collapsed": false
   },
   "outputs": [
    {
     "data": {
      "text/plain": [
       "<seaborn.axisgrid.FacetGrid at 0x21dac705ad0>"
      ]
     },
     "execution_count": 8,
     "metadata": {},
     "output_type": "execute_result"
    },
    {
     "data": {
      "image/png": "[encoded data removed]",
      "text/plain": [
       "<Figure size 1500x300 with 5 Axes>"
      ]
     },
     "metadata": {},
     "output_type": "display_data"
    }
   ],
   "source": [
    "g = sns.FacetGrid(yelp,col='stars')\n",
    "g.map(plt.hist,'text length')"
   ]
  },
  {
   "attachments": {},
   "cell_type": "markdown",
   "metadata": {},
   "source": [
    "**Create a boxplot of text length for each star category.**"
   ]
  },
  {
   "cell_type": "code",
   "execution_count": 9,
   "metadata": {
    "collapsed": false
   },
   "outputs": [
    {
     "data": {
      "text/plain": [
       "<Axes: xlabel='stars', ylabel='text length'>"
      ]
     },
     "execution_count": 9,
     "metadata": {},
     "output_type": "execute_result"
    },
    {
     "data": {
      "image/png": "[encoded data removed]",
      "text/plain": [
       "<Figure size 640x480 with 1 Axes>"
      ]
     },
     "metadata": {},
     "output_type": "display_data"
    }
   ],
   "source": [
    "sns.boxplot(x='stars',y='text length',data=yelp,palette='rainbow')"
   ]
  },
  {
   "attachments": {},
   "cell_type": "markdown",
   "metadata": {},
   "source": [
    "**Create a countplot of the number of occurrences for each type of star rating.**"
   ]
  },
  {
   "cell_type": "code",
   "execution_count": 10,
   "metadata": {
    "collapsed": false
   },
   "outputs": [
    {
     "data": {
      "text/plain": [
       "<Axes: xlabel='stars', ylabel='count'>"
      ]
     },
     "execution_count": 10,
     "metadata": {},
     "output_type": "execute_result"
    },
    {
     "data": {
      "image/png": "[encoded data removed]",
      "text/plain": [
       "<Figure size 640x480 with 1 Axes>"
      ]
     },
     "metadata": {},
     "output_type": "display_data"
    }
   ],
   "source": [
    "sns.countplot(x='stars',data=yelp,palette='rainbow')"
   ]
  },
  {
   "attachments": {},
   "cell_type": "markdown",
   "metadata": {},
   "source": [
    "** Use groupby to get the mean values of the numerical columns, you should be able to create this dataframe with the operation:**"
   ]
  },
  {
   "cell_type": "code",
   "execution_count": 11,
   "metadata": {
    "collapsed": false
   },
   "outputs": [
    {
     "ename": "TypeError",
     "evalue": "Could not convert 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 to numeric",
     "output_type": "error",
     "traceback": [
      "\u001b[1;31m---------------------------------------------------------------------------\u001b[0m",
      "\u001b[1;31mNotImplementedError\u001b[0m                       Traceback (most recent call last)",
      "File \u001b[1;32mc:\\Users\\david\\OneDrive\\Cursos\\Python\\Python Bootcamp\\python_bootcamp\\.venv\\Lib\\site-packages\\pandas\\core\\groupby\\groupby.py:1490\u001b[0m, in \u001b[0;36mGroupBy._cython_agg_general.<locals>.array_func\u001b[1;34m(values)\u001b[0m\n\u001b[0;32m   1489\u001b[0m \u001b[39mtry\u001b[39;00m:\n\u001b[1;32m-> 1490\u001b[0m     result \u001b[39m=\u001b[39m \u001b[39mself\u001b[39;49m\u001b[39m.\u001b[39;49mgrouper\u001b[39m.\u001b[39;49m_cython_operation(\n\u001b[0;32m   1491\u001b[0m         \u001b[39m\"\u001b[39;49m\u001b[39maggregate\u001b[39;49m\u001b[39m\"\u001b[39;49m,\n\u001b[0;32m   1492\u001b[0m         values,\n\u001b[0;32m   1493\u001b[0m         how,\n\u001b[0;32m   1494\u001b[0m         axis\u001b[39m=\u001b[39;49mdata\u001b[39m.\u001b[39;49mndim \u001b[39m-\u001b[39;49m \u001b[39m1\u001b[39;49m,\n\u001b[0;32m   1495\u001b[0m         min_count\u001b[39m=\u001b[39;49mmin_count,\n\u001b[0;32m   1496\u001b[0m         \u001b[39m*\u001b[39;49m\u001b[39m*\u001b[39;49mkwargs,\n\u001b[0;32m   1497\u001b[0m     )\n\u001b[0;32m   1498\u001b[0m \u001b[39mexcept\u001b[39;00m \u001b[39mNotImplementedError\u001b[39;00m:\n\u001b[0;32m   1499\u001b[0m     \u001b[39m# generally if we have numeric_only=False\u001b[39;00m\n\u001b[0;32m   1500\u001b[0m     \u001b[39m# and non-applicable functions\u001b[39;00m\n\u001b[0;32m   1501\u001b[0m     \u001b[39m# try to python agg\u001b[39;00m\n\u001b[0;32m   1502\u001b[0m     \u001b[39m# TODO: shouldn't min_count matter?\u001b[39;00m\n",
      "File \u001b[1;32mc:\\Users\\david\\OneDrive\\Cursos\\Python\\Python Bootcamp\\python_bootcamp\\.venv\\Lib\\site-packages\\pandas\\core\\groupby\\ops.py:959\u001b[0m, in \u001b[0;36mBaseGrouper._cython_operation\u001b[1;34m(self, kind, values, how, axis, min_count, **kwargs)\u001b[0m\n\u001b[0;32m    958\u001b[0m ngroups \u001b[39m=\u001b[39m \u001b[39mself\u001b[39m\u001b[39m.\u001b[39mngroups\n\u001b[1;32m--> 959\u001b[0m \u001b[39mreturn\u001b[39;00m cy_op\u001b[39m.\u001b[39;49mcython_operation(\n\u001b[0;32m    960\u001b[0m     values\u001b[39m=\u001b[39;49mvalues,\n\u001b[0;32m    961\u001b[0m     axis\u001b[39m=\u001b[39;49maxis,\n\u001b[0;32m    962\u001b[0m     min_count\u001b[39m=\u001b[39;49mmin_count,\n\u001b[0;32m    963\u001b[0m     comp_ids\u001b[39m=\u001b[39;49mids,\n\u001b[0;32m    964\u001b[0m     ngroups\u001b[39m=\u001b[39;49mngroups,\n\u001b[0;32m    965\u001b[0m     \u001b[39m*\u001b[39;49m\u001b[39m*\u001b[39;49mkwargs,\n\u001b[0;32m    966\u001b[0m )\n",
      "File \u001b[1;32mc:\\Users\\david\\OneDrive\\Cursos\\Python\\Python Bootcamp\\python_bootcamp\\.venv\\Lib\\site-packages\\pandas\\core\\groupby\\ops.py:657\u001b[0m, in \u001b[0;36mWrappedCythonOp.cython_operation\u001b[1;34m(self, values, axis, min_count, comp_ids, ngroups, **kwargs)\u001b[0m\n\u001b[0;32m    649\u001b[0m     \u001b[39mreturn\u001b[39;00m \u001b[39mself\u001b[39m\u001b[39m.\u001b[39m_ea_wrap_cython_operation(\n\u001b[0;32m    650\u001b[0m         values,\n\u001b[0;32m    651\u001b[0m         min_count\u001b[39m=\u001b[39mmin_count,\n\u001b[1;32m   (...)\u001b[0m\n\u001b[0;32m    654\u001b[0m         \u001b[39m*\u001b[39m\u001b[39m*\u001b[39mkwargs,\n\u001b[0;32m    655\u001b[0m     )\n\u001b[1;32m--> 657\u001b[0m \u001b[39mreturn\u001b[39;00m \u001b[39mself\u001b[39;49m\u001b[39m.\u001b[39;49m_cython_op_ndim_compat(\n\u001b[0;32m    658\u001b[0m     values,\n\u001b[0;32m    659\u001b[0m     min_count\u001b[39m=\u001b[39;49mmin_count,\n\u001b[0;32m    660\u001b[0m     ngroups\u001b[39m=\u001b[39;49mngroups,\n\u001b[0;32m    661\u001b[0m     comp_ids\u001b[39m=\u001b[39;49mcomp_ids,\n\u001b[0;32m    662\u001b[0m     mask\u001b[39m=\u001b[39;49m\u001b[39mNone\u001b[39;49;00m,\n\u001b[0;32m    663\u001b[0m     \u001b[39m*\u001b[39;49m\u001b[39m*\u001b[39;49mkwargs,\n\u001b[0;32m    664\u001b[0m )\n",
      "File \u001b[1;32mc:\\Users\\david\\OneDrive\\Cursos\\Python\\Python Bootcamp\\python_bootcamp\\.venv\\Lib\\site-packages\\pandas\\core\\groupby\\ops.py:497\u001b[0m, in \u001b[0;36mWrappedCythonOp._cython_op_ndim_compat\u001b[1;34m(self, values, min_count, ngroups, comp_ids, mask, result_mask, **kwargs)\u001b[0m\n\u001b[0;32m    495\u001b[0m     \u001b[39mreturn\u001b[39;00m res\u001b[39m.\u001b[39mT\n\u001b[1;32m--> 497\u001b[0m \u001b[39mreturn\u001b[39;00m \u001b[39mself\u001b[39;49m\u001b[39m.\u001b[39;49m_call_cython_op(\n\u001b[0;32m    498\u001b[0m     values,\n\u001b[0;32m    499\u001b[0m     min_count\u001b[39m=\u001b[39;49mmin_count,\n\u001b[0;32m    500\u001b[0m     ngroups\u001b[39m=\u001b[39;49mngroups,\n\u001b[0;32m    501\u001b[0m     comp_ids\u001b[39m=\u001b[39;49mcomp_ids,\n\u001b[0;32m    502\u001b[0m     mask\u001b[39m=\u001b[39;49mmask,\n\u001b[0;32m    503\u001b[0m     result_mask\u001b[39m=\u001b[39;49mresult_mask,\n\u001b[0;32m    504\u001b[0m     \u001b[39m*\u001b[39;49m\u001b[39m*\u001b[39;49mkwargs,\n\u001b[0;32m    505\u001b[0m )\n",
      "File \u001b[1;32mc:\\Users\\david\\OneDrive\\Cursos\\Python\\Python Bootcamp\\python_bootcamp\\.venv\\Lib\\site-packages\\pandas\\core\\groupby\\ops.py:541\u001b[0m, in \u001b[0;36mWrappedCythonOp._call_cython_op\u001b[1;34m(self, values, min_count, ngroups, comp_ids, mask, result_mask, **kwargs)\u001b[0m\n\u001b[0;32m    540\u001b[0m out_shape \u001b[39m=\u001b[39m \u001b[39mself\u001b[39m\u001b[39m.\u001b[39m_get_output_shape(ngroups, values)\n\u001b[1;32m--> 541\u001b[0m func \u001b[39m=\u001b[39m \u001b[39mself\u001b[39;49m\u001b[39m.\u001b[39;49m_get_cython_function(\u001b[39mself\u001b[39;49m\u001b[39m.\u001b[39;49mkind, \u001b[39mself\u001b[39;49m\u001b[39m.\u001b[39;49mhow, values\u001b[39m.\u001b[39;49mdtype, is_numeric)\n\u001b[0;32m    542\u001b[0m values \u001b[39m=\u001b[39m \u001b[39mself\u001b[39m\u001b[39m.\u001b[39m_get_cython_vals(values)\n",
      "File \u001b[1;32mc:\\Users\\david\\OneDrive\\Cursos\\Python\\Python Bootcamp\\python_bootcamp\\.venv\\Lib\\site-packages\\pandas\\core\\groupby\\ops.py:173\u001b[0m, in \u001b[0;36mWrappedCythonOp._get_cython_function\u001b[1;34m(cls, kind, how, dtype, is_numeric)\u001b[0m\n\u001b[0;32m    171\u001b[0m \u001b[39mif\u001b[39;00m \u001b[39m\"\u001b[39m\u001b[39mobject\u001b[39m\u001b[39m\"\u001b[39m \u001b[39mnot\u001b[39;00m \u001b[39min\u001b[39;00m f\u001b[39m.\u001b[39m__signatures__:\n\u001b[0;32m    172\u001b[0m     \u001b[39m# raise NotImplementedError here rather than TypeError later\u001b[39;00m\n\u001b[1;32m--> 173\u001b[0m     \u001b[39mraise\u001b[39;00m \u001b[39mNotImplementedError\u001b[39;00m(\n\u001b[0;32m    174\u001b[0m         \u001b[39mf\u001b[39m\u001b[39m\"\u001b[39m\u001b[39mfunction is not implemented for this dtype: \u001b[39m\u001b[39m\"\u001b[39m\n\u001b[0;32m    175\u001b[0m         \u001b[39mf\u001b[39m\u001b[39m\"\u001b[39m\u001b[39m[how->\u001b[39m\u001b[39m{\u001b[39;00mhow\u001b[39m}\u001b[39;00m\u001b[39m,dtype->\u001b[39m\u001b[39m{\u001b[39;00mdtype_str\u001b[39m}\u001b[39;00m\u001b[39m]\u001b[39m\u001b[39m\"\u001b[39m\n\u001b[0;32m    176\u001b[0m     )\n\u001b[0;32m    177\u001b[0m \u001b[39mreturn\u001b[39;00m f\n",
      "\u001b[1;31mNotImplementedError\u001b[0m: function is not implemented for this dtype: [how->mean,dtype->object]",
      "\nDuring handling of the above exception, another exception occurred:\n",
      "\u001b[1;31mValueError\u001b[0m                                Traceback (most recent call last)",
      "File \u001b[1;32mc:\\Users\\david\\OneDrive\\Cursos\\Python\\Python Bootcamp\\python_bootcamp\\.venv\\Lib\\site-packages\\pandas\\core\\nanops.py:1692\u001b[0m, in \u001b[0;36m_ensure_numeric\u001b[1;34m(x)\u001b[0m\n\u001b[0;32m   1691\u001b[0m \u001b[39mtry\u001b[39;00m:\n\u001b[1;32m-> 1692\u001b[0m     x \u001b[39m=\u001b[39m \u001b[39mfloat\u001b[39m(x)\n\u001b[0;32m   1693\u001b[0m \u001b[39mexcept\u001b[39;00m (\u001b[39mTypeError\u001b[39;00m, \u001b[39mValueError\u001b[39;00m):\n\u001b[0;32m   1694\u001b[0m     \u001b[39m# e.g. \"1+1j\" or \"foo\"\u001b[39;00m\n",
      "\u001b[1;31mValueError\u001b[0m: could not convert string to float: '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'",
      "\nDuring handling of the above exception, another exception occurred:\n",
      "\u001b[1;31mValueError\u001b[0m                                Traceback (most recent call last)",
      "File \u001b[1;32mc:\\Users\\david\\OneDrive\\Cursos\\Python\\Python Bootcamp\\python_bootcamp\\.venv\\Lib\\site-packages\\pandas\\core\\nanops.py:1696\u001b[0m, in \u001b[0;36m_ensure_numeric\u001b[1;34m(x)\u001b[0m\n\u001b[0;32m   1695\u001b[0m \u001b[39mtry\u001b[39;00m:\n\u001b[1;32m-> 1696\u001b[0m     x \u001b[39m=\u001b[39m \u001b[39mcomplex\u001b[39;49m(x)\n\u001b[0;32m   1697\u001b[0m \u001b[39mexcept\u001b[39;00m \u001b[39mValueError\u001b[39;00m \u001b[39mas\u001b[39;00m err:\n\u001b[0;32m   1698\u001b[0m     \u001b[39m# e.g. \"foo\"\u001b[39;00m\n",
      "\u001b[1;31mValueError\u001b[0m: could not convert string to complex: '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'",
      "\nThe above exception was the direct cause of the following exception:\n",
      "\u001b[1;31mTypeError\u001b[0m                                 Traceback (most recent call last)",
      "Cell \u001b[1;32mIn[11], line 1\u001b[0m\n\u001b[1;32m----> 1\u001b[0m stars \u001b[39m=\u001b[39m yelp\u001b[39m.\u001b[39;49mgroupby(\u001b[39m'\u001b[39;49m\u001b[39mstars\u001b[39;49m\u001b[39m'\u001b[39;49m)\u001b[39m.\u001b[39;49mmean()\n\u001b[0;32m      2\u001b[0m stars\n",
      "File \u001b[1;32mc:\\Users\\david\\OneDrive\\Cursos\\Python\\Python Bootcamp\\python_bootcamp\\.venv\\Lib\\site-packages\\pandas\\core\\groupby\\groupby.py:1855\u001b[0m, in \u001b[0;36mGroupBy.mean\u001b[1;34m(self, numeric_only, engine, engine_kwargs)\u001b[0m\n\u001b[0;32m   1853\u001b[0m     \u001b[39mreturn\u001b[39;00m \u001b[39mself\u001b[39m\u001b[39m.\u001b[39m_numba_agg_general(sliding_mean, engine_kwargs)\n\u001b[0;32m   1854\u001b[0m \u001b[39melse\u001b[39;00m:\n\u001b[1;32m-> 1855\u001b[0m     result \u001b[39m=\u001b[39m \u001b[39mself\u001b[39;49m\u001b[39m.\u001b[39;49m_cython_agg_general(\n\u001b[0;32m   1856\u001b[0m         \u001b[39m\"\u001b[39;49m\u001b[39mmean\u001b[39;49m\u001b[39m\"\u001b[39;49m,\n\u001b[0;32m   1857\u001b[0m         alt\u001b[39m=\u001b[39;49m\u001b[39mlambda\u001b[39;49;00m x: Series(x)\u001b[39m.\u001b[39;49mmean(numeric_only\u001b[39m=\u001b[39;49mnumeric_only),\n\u001b[0;32m   1858\u001b[0m         numeric_only\u001b[39m=\u001b[39;49mnumeric_only,\n\u001b[0;32m   1859\u001b[0m     )\n\u001b[0;32m   1860\u001b[0m     \u001b[39mreturn\u001b[39;00m result\u001b[39m.\u001b[39m__finalize__(\u001b[39mself\u001b[39m\u001b[39m.\u001b[39mobj, method\u001b[39m=\u001b[39m\u001b[39m\"\u001b[39m\u001b[39mgroupby\u001b[39m\u001b[39m\"\u001b[39m)\n",
      "File \u001b[1;32mc:\\Users\\david\\OneDrive\\Cursos\\Python\\Python Bootcamp\\python_bootcamp\\.venv\\Lib\\site-packages\\pandas\\core\\groupby\\groupby.py:1507\u001b[0m, in \u001b[0;36mGroupBy._cython_agg_general\u001b[1;34m(self, how, alt, numeric_only, min_count, **kwargs)\u001b[0m\n\u001b[0;32m   1503\u001b[0m         result \u001b[39m=\u001b[39m \u001b[39mself\u001b[39m\u001b[39m.\u001b[39m_agg_py_fallback(values, ndim\u001b[39m=\u001b[39mdata\u001b[39m.\u001b[39mndim, alt\u001b[39m=\u001b[39malt)\n\u001b[0;32m   1505\u001b[0m     \u001b[39mreturn\u001b[39;00m result\n\u001b[1;32m-> 1507\u001b[0m new_mgr \u001b[39m=\u001b[39m data\u001b[39m.\u001b[39;49mgrouped_reduce(array_func)\n\u001b[0;32m   1508\u001b[0m res \u001b[39m=\u001b[39m \u001b[39mself\u001b[39m\u001b[39m.\u001b[39m_wrap_agged_manager(new_mgr)\n\u001b[0;32m   1509\u001b[0m out \u001b[39m=\u001b[39m \u001b[39mself\u001b[39m\u001b[39m.\u001b[39m_wrap_aggregated_output(res)\n",
      "File \u001b[1;32mc:\\Users\\david\\OneDrive\\Cursos\\Python\\Python Bootcamp\\python_bootcamp\\.venv\\Lib\\site-packages\\pandas\\core\\internals\\managers.py:1503\u001b[0m, in \u001b[0;36mBlockManager.grouped_reduce\u001b[1;34m(self, func)\u001b[0m\n\u001b[0;32m   1499\u001b[0m \u001b[39mif\u001b[39;00m blk\u001b[39m.\u001b[39mis_object:\n\u001b[0;32m   1500\u001b[0m     \u001b[39m# split on object-dtype blocks bc some columns may raise\u001b[39;00m\n\u001b[0;32m   1501\u001b[0m     \u001b[39m#  while others do not.\u001b[39;00m\n\u001b[0;32m   1502\u001b[0m     \u001b[39mfor\u001b[39;00m sb \u001b[39min\u001b[39;00m blk\u001b[39m.\u001b[39m_split():\n\u001b[1;32m-> 1503\u001b[0m         applied \u001b[39m=\u001b[39m sb\u001b[39m.\u001b[39;49mapply(func)\n\u001b[0;32m   1504\u001b[0m         result_blocks \u001b[39m=\u001b[39m extend_blocks(applied, result_blocks)\n\u001b[0;32m   1505\u001b[0m \u001b[39melse\u001b[39;00m:\n",
      "File \u001b[1;32mc:\\Users\\david\\OneDrive\\Cursos\\Python\\Python Bootcamp\\python_bootcamp\\.venv\\Lib\\site-packages\\pandas\\core\\internals\\blocks.py:329\u001b[0m, in \u001b[0;36mBlock.apply\u001b[1;34m(self, func, **kwargs)\u001b[0m\n\u001b[0;32m    323\u001b[0m \u001b[39m@final\u001b[39m\n\u001b[0;32m    324\u001b[0m \u001b[39mdef\u001b[39;00m \u001b[39mapply\u001b[39m(\u001b[39mself\u001b[39m, func, \u001b[39m*\u001b[39m\u001b[39m*\u001b[39mkwargs) \u001b[39m-\u001b[39m\u001b[39m>\u001b[39m \u001b[39mlist\u001b[39m[Block]:\n\u001b[0;32m    325\u001b[0m \u001b[39m    \u001b[39m\u001b[39m\"\"\"\u001b[39;00m\n\u001b[0;32m    326\u001b[0m \u001b[39m    apply the function to my values; return a block if we are not\u001b[39;00m\n\u001b[0;32m    327\u001b[0m \u001b[39m    one\u001b[39;00m\n\u001b[0;32m    328\u001b[0m \u001b[39m    \"\"\"\u001b[39;00m\n\u001b[1;32m--> 329\u001b[0m     result \u001b[39m=\u001b[39m func(\u001b[39mself\u001b[39;49m\u001b[39m.\u001b[39;49mvalues, \u001b[39m*\u001b[39;49m\u001b[39m*\u001b[39;49mkwargs)\n\u001b[0;32m    331\u001b[0m     \u001b[39mreturn\u001b[39;00m \u001b[39mself\u001b[39m\u001b[39m.\u001b[39m_split_op_result(result)\n",
      "File \u001b[1;32mc:\\Users\\david\\OneDrive\\Cursos\\Python\\Python Bootcamp\\python_bootcamp\\.venv\\Lib\\site-packages\\pandas\\core\\groupby\\groupby.py:1503\u001b[0m, in \u001b[0;36mGroupBy._cython_agg_general.<locals>.array_func\u001b[1;34m(values)\u001b[0m\n\u001b[0;32m   1490\u001b[0m     result \u001b[39m=\u001b[39m \u001b[39mself\u001b[39m\u001b[39m.\u001b[39mgrouper\u001b[39m.\u001b[39m_cython_operation(\n\u001b[0;32m   1491\u001b[0m         \u001b[39m\"\u001b[39m\u001b[39maggregate\u001b[39m\u001b[39m\"\u001b[39m,\n\u001b[0;32m   1492\u001b[0m         values,\n\u001b[1;32m   (...)\u001b[0m\n\u001b[0;32m   1496\u001b[0m         \u001b[39m*\u001b[39m\u001b[39m*\u001b[39mkwargs,\n\u001b[0;32m   1497\u001b[0m     )\n\u001b[0;32m   1498\u001b[0m \u001b[39mexcept\u001b[39;00m \u001b[39mNotImplementedError\u001b[39;00m:\n\u001b[0;32m   1499\u001b[0m     \u001b[39m# generally if we have numeric_only=False\u001b[39;00m\n\u001b[0;32m   1500\u001b[0m     \u001b[39m# and non-applicable functions\u001b[39;00m\n\u001b[0;32m   1501\u001b[0m     \u001b[39m# try to python agg\u001b[39;00m\n\u001b[0;32m   1502\u001b[0m     \u001b[39m# TODO: shouldn't min_count matter?\u001b[39;00m\n\u001b[1;32m-> 1503\u001b[0m     result \u001b[39m=\u001b[39m \u001b[39mself\u001b[39;49m\u001b[39m.\u001b[39;49m_agg_py_fallback(values, ndim\u001b[39m=\u001b[39;49mdata\u001b[39m.\u001b[39;49mndim, alt\u001b[39m=\u001b[39;49malt)\n\u001b[0;32m   1505\u001b[0m \u001b[39mreturn\u001b[39;00m result\n",
      "File \u001b[1;32mc:\\Users\\david\\OneDrive\\Cursos\\Python\\Python Bootcamp\\python_bootcamp\\.venv\\Lib\\site-packages\\pandas\\core\\groupby\\groupby.py:1457\u001b[0m, in \u001b[0;36mGroupBy._agg_py_fallback\u001b[1;34m(self, values, ndim, alt)\u001b[0m\n\u001b[0;32m   1452\u001b[0m     ser \u001b[39m=\u001b[39m df\u001b[39m.\u001b[39miloc[:, \u001b[39m0\u001b[39m]\n\u001b[0;32m   1454\u001b[0m \u001b[39m# We do not get here with UDFs, so we know that our dtype\u001b[39;00m\n\u001b[0;32m   1455\u001b[0m \u001b[39m#  should always be preserved by the implemented aggregations\u001b[39;00m\n\u001b[0;32m   1456\u001b[0m \u001b[39m# TODO: Is this exactly right; see WrappedCythonOp get_result_dtype?\u001b[39;00m\n\u001b[1;32m-> 1457\u001b[0m res_values \u001b[39m=\u001b[39m \u001b[39mself\u001b[39;49m\u001b[39m.\u001b[39;49mgrouper\u001b[39m.\u001b[39;49magg_series(ser, alt, preserve_dtype\u001b[39m=\u001b[39;49m\u001b[39mTrue\u001b[39;49;00m)\n\u001b[0;32m   1459\u001b[0m \u001b[39mif\u001b[39;00m \u001b[39misinstance\u001b[39m(values, Categorical):\n\u001b[0;32m   1460\u001b[0m     \u001b[39m# Because we only get here with known dtype-preserving\u001b[39;00m\n\u001b[0;32m   1461\u001b[0m     \u001b[39m#  reductions, we cast back to Categorical.\u001b[39;00m\n\u001b[0;32m   1462\u001b[0m     \u001b[39m# TODO: if we ever get \"rank\" working, exclude it here.\u001b[39;00m\n\u001b[0;32m   1463\u001b[0m     res_values \u001b[39m=\u001b[39m \u001b[39mtype\u001b[39m(values)\u001b[39m.\u001b[39m_from_sequence(res_values, dtype\u001b[39m=\u001b[39mvalues\u001b[39m.\u001b[39mdtype)\n",
      "File \u001b[1;32mc:\\Users\\david\\OneDrive\\Cursos\\Python\\Python Bootcamp\\python_bootcamp\\.venv\\Lib\\site-packages\\pandas\\core\\groupby\\ops.py:994\u001b[0m, in \u001b[0;36mBaseGrouper.agg_series\u001b[1;34m(self, obj, func, preserve_dtype)\u001b[0m\n\u001b[0;32m    987\u001b[0m \u001b[39mif\u001b[39;00m \u001b[39mlen\u001b[39m(obj) \u001b[39m>\u001b[39m \u001b[39m0\u001b[39m \u001b[39mand\u001b[39;00m \u001b[39mnot\u001b[39;00m \u001b[39misinstance\u001b[39m(obj\u001b[39m.\u001b[39m_values, np\u001b[39m.\u001b[39mndarray):\n\u001b[0;32m    988\u001b[0m     \u001b[39m# we can preserve a little bit more aggressively with EA dtype\u001b[39;00m\n\u001b[0;32m    989\u001b[0m     \u001b[39m#  because maybe_cast_pointwise_result will do a try/except\u001b[39;00m\n\u001b[0;32m    990\u001b[0m     \u001b[39m#  with _from_sequence.  NB we are assuming here that _from_sequence\u001b[39;00m\n\u001b[0;32m    991\u001b[0m     \u001b[39m#  is sufficiently strict that it casts appropriately.\u001b[39;00m\n\u001b[0;32m    992\u001b[0m     preserve_dtype \u001b[39m=\u001b[39m \u001b[39mTrue\u001b[39;00m\n\u001b[1;32m--> 994\u001b[0m result \u001b[39m=\u001b[39m \u001b[39mself\u001b[39;49m\u001b[39m.\u001b[39;49m_aggregate_series_pure_python(obj, func)\n\u001b[0;32m    996\u001b[0m npvalues \u001b[39m=\u001b[39m lib\u001b[39m.\u001b[39mmaybe_convert_objects(result, try_float\u001b[39m=\u001b[39m\u001b[39mFalse\u001b[39;00m)\n\u001b[0;32m    997\u001b[0m \u001b[39mif\u001b[39;00m preserve_dtype:\n",
      "File \u001b[1;32mc:\\Users\\david\\OneDrive\\Cursos\\Python\\Python Bootcamp\\python_bootcamp\\.venv\\Lib\\site-packages\\pandas\\core\\groupby\\ops.py:1015\u001b[0m, in \u001b[0;36mBaseGrouper._aggregate_series_pure_python\u001b[1;34m(self, obj, func)\u001b[0m\n\u001b[0;32m   1012\u001b[0m splitter \u001b[39m=\u001b[39m \u001b[39mself\u001b[39m\u001b[39m.\u001b[39m_get_splitter(obj, axis\u001b[39m=\u001b[39m\u001b[39m0\u001b[39m)\n\u001b[0;32m   1014\u001b[0m \u001b[39mfor\u001b[39;00m i, group \u001b[39min\u001b[39;00m \u001b[39menumerate\u001b[39m(splitter):\n\u001b[1;32m-> 1015\u001b[0m     res \u001b[39m=\u001b[39m func(group)\n\u001b[0;32m   1016\u001b[0m     res \u001b[39m=\u001b[39m libreduction\u001b[39m.\u001b[39mextract_result(res)\n\u001b[0;32m   1018\u001b[0m     \u001b[39mif\u001b[39;00m \u001b[39mnot\u001b[39;00m initialized:\n\u001b[0;32m   1019\u001b[0m         \u001b[39m# We only do this validation on the first iteration\u001b[39;00m\n",
      "File \u001b[1;32mc:\\Users\\david\\OneDrive\\Cursos\\Python\\Python Bootcamp\\python_bootcamp\\.venv\\Lib\\site-packages\\pandas\\core\\groupby\\groupby.py:1857\u001b[0m, in \u001b[0;36mGroupBy.mean.<locals>.<lambda>\u001b[1;34m(x)\u001b[0m\n\u001b[0;32m   1853\u001b[0m     \u001b[39mreturn\u001b[39;00m \u001b[39mself\u001b[39m\u001b[39m.\u001b[39m_numba_agg_general(sliding_mean, engine_kwargs)\n\u001b[0;32m   1854\u001b[0m \u001b[39melse\u001b[39;00m:\n\u001b[0;32m   1855\u001b[0m     result \u001b[39m=\u001b[39m \u001b[39mself\u001b[39m\u001b[39m.\u001b[39m_cython_agg_general(\n\u001b[0;32m   1856\u001b[0m         \u001b[39m\"\u001b[39m\u001b[39mmean\u001b[39m\u001b[39m\"\u001b[39m,\n\u001b[1;32m-> 1857\u001b[0m         alt\u001b[39m=\u001b[39m\u001b[39mlambda\u001b[39;00m x: Series(x)\u001b[39m.\u001b[39;49mmean(numeric_only\u001b[39m=\u001b[39;49mnumeric_only),\n\u001b[0;32m   1858\u001b[0m         numeric_only\u001b[39m=\u001b[39mnumeric_only,\n\u001b[0;32m   1859\u001b[0m     )\n\u001b[0;32m   1860\u001b[0m     \u001b[39mreturn\u001b[39;00m result\u001b[39m.\u001b[39m__finalize__(\u001b[39mself\u001b[39m\u001b[39m.\u001b[39mobj, method\u001b[39m=\u001b[39m\u001b[39m\"\u001b[39m\u001b[39mgroupby\u001b[39m\u001b[39m\"\u001b[39m)\n",
      "File \u001b[1;32mc:\\Users\\david\\OneDrive\\Cursos\\Python\\Python Bootcamp\\python_bootcamp\\.venv\\Lib\\site-packages\\pandas\\core\\generic.py:11556\u001b[0m, in \u001b[0;36mNDFrame._add_numeric_operations.<locals>.mean\u001b[1;34m(self, axis, skipna, numeric_only, **kwargs)\u001b[0m\n\u001b[0;32m  11539\u001b[0m \u001b[39m@doc\u001b[39m(\n\u001b[0;32m  11540\u001b[0m     _num_doc,\n\u001b[0;32m  11541\u001b[0m     desc\u001b[39m=\u001b[39m\u001b[39m\"\u001b[39m\u001b[39mReturn the mean of the values over the requested axis.\u001b[39m\u001b[39m\"\u001b[39m,\n\u001b[1;32m   (...)\u001b[0m\n\u001b[0;32m  11554\u001b[0m     \u001b[39m*\u001b[39m\u001b[39m*\u001b[39mkwargs,\n\u001b[0;32m  11555\u001b[0m ):\n\u001b[1;32m> 11556\u001b[0m     \u001b[39mreturn\u001b[39;00m NDFrame\u001b[39m.\u001b[39;49mmean(\u001b[39mself\u001b[39;49m, axis, skipna, numeric_only, \u001b[39m*\u001b[39;49m\u001b[39m*\u001b[39;49mkwargs)\n",
      "File \u001b[1;32mc:\\Users\\david\\OneDrive\\Cursos\\Python\\Python Bootcamp\\python_bootcamp\\.venv\\Lib\\site-packages\\pandas\\core\\generic.py:11201\u001b[0m, in \u001b[0;36mNDFrame.mean\u001b[1;34m(self, axis, skipna, numeric_only, **kwargs)\u001b[0m\n\u001b[0;32m  11194\u001b[0m \u001b[39mdef\u001b[39;00m \u001b[39mmean\u001b[39m(\n\u001b[0;32m  11195\u001b[0m     \u001b[39mself\u001b[39m,\n\u001b[0;32m  11196\u001b[0m     axis: Axis \u001b[39m|\u001b[39m \u001b[39mNone\u001b[39;00m \u001b[39m=\u001b[39m \u001b[39m0\u001b[39m,\n\u001b[1;32m   (...)\u001b[0m\n\u001b[0;32m  11199\u001b[0m     \u001b[39m*\u001b[39m\u001b[39m*\u001b[39mkwargs,\n\u001b[0;32m  11200\u001b[0m ) \u001b[39m-\u001b[39m\u001b[39m>\u001b[39m Series \u001b[39m|\u001b[39m \u001b[39mfloat\u001b[39m:\n\u001b[1;32m> 11201\u001b[0m     \u001b[39mreturn\u001b[39;00m \u001b[39mself\u001b[39;49m\u001b[39m.\u001b[39;49m_stat_function(\n\u001b[0;32m  11202\u001b[0m         \u001b[39m\"\u001b[39;49m\u001b[39mmean\u001b[39;49m\u001b[39m\"\u001b[39;49m, nanops\u001b[39m.\u001b[39;49mnanmean, axis, skipna, numeric_only, \u001b[39m*\u001b[39;49m\u001b[39m*\u001b[39;49mkwargs\n\u001b[0;32m  11203\u001b[0m     )\n",
      "File \u001b[1;32mc:\\Users\\david\\OneDrive\\Cursos\\Python\\Python Bootcamp\\python_bootcamp\\.venv\\Lib\\site-packages\\pandas\\core\\generic.py:11158\u001b[0m, in \u001b[0;36mNDFrame._stat_function\u001b[1;34m(self, name, func, axis, skipna, numeric_only, **kwargs)\u001b[0m\n\u001b[0;32m  11154\u001b[0m     nv\u001b[39m.\u001b[39mvalidate_stat_func((), kwargs, fname\u001b[39m=\u001b[39mname)\n\u001b[0;32m  11156\u001b[0m validate_bool_kwarg(skipna, \u001b[39m\"\u001b[39m\u001b[39mskipna\u001b[39m\u001b[39m\"\u001b[39m, none_allowed\u001b[39m=\u001b[39m\u001b[39mFalse\u001b[39;00m)\n\u001b[1;32m> 11158\u001b[0m \u001b[39mreturn\u001b[39;00m \u001b[39mself\u001b[39;49m\u001b[39m.\u001b[39;49m_reduce(\n\u001b[0;32m  11159\u001b[0m     func, name\u001b[39m=\u001b[39;49mname, axis\u001b[39m=\u001b[39;49maxis, skipna\u001b[39m=\u001b[39;49mskipna, numeric_only\u001b[39m=\u001b[39;49mnumeric_only\n\u001b[0;32m  11160\u001b[0m )\n",
      "File \u001b[1;32mc:\\Users\\david\\OneDrive\\Cursos\\Python\\Python Bootcamp\\python_bootcamp\\.venv\\Lib\\site-packages\\pandas\\core\\series.py:4666\u001b[0m, in \u001b[0;36mSeries._reduce\u001b[1;34m(self, op, name, axis, skipna, numeric_only, filter_type, **kwds)\u001b[0m\n\u001b[0;32m   4661\u001b[0m     \u001b[39mraise\u001b[39;00m \u001b[39mTypeError\u001b[39;00m(\n\u001b[0;32m   4662\u001b[0m         \u001b[39mf\u001b[39m\u001b[39m\"\u001b[39m\u001b[39mSeries.\u001b[39m\u001b[39m{\u001b[39;00mname\u001b[39m}\u001b[39;00m\u001b[39m does not allow \u001b[39m\u001b[39m{\u001b[39;00mkwd_name\u001b[39m}\u001b[39;00m\u001b[39m=\u001b[39m\u001b[39m{\u001b[39;00mnumeric_only\u001b[39m}\u001b[39;00m\u001b[39m \u001b[39m\u001b[39m\"\u001b[39m\n\u001b[0;32m   4663\u001b[0m         \u001b[39m\"\u001b[39m\u001b[39mwith non-numeric dtypes.\u001b[39m\u001b[39m\"\u001b[39m\n\u001b[0;32m   4664\u001b[0m     )\n\u001b[0;32m   4665\u001b[0m \u001b[39mwith\u001b[39;00m np\u001b[39m.\u001b[39merrstate(\u001b[39mall\u001b[39m\u001b[39m=\u001b[39m\u001b[39m\"\u001b[39m\u001b[39mignore\u001b[39m\u001b[39m\"\u001b[39m):\n\u001b[1;32m-> 4666\u001b[0m     \u001b[39mreturn\u001b[39;00m op(delegate, skipna\u001b[39m=\u001b[39;49mskipna, \u001b[39m*\u001b[39;49m\u001b[39m*\u001b[39;49mkwds)\n",
      "File \u001b[1;32mc:\\Users\\david\\OneDrive\\Cursos\\Python\\Python Bootcamp\\python_bootcamp\\.venv\\Lib\\site-packages\\pandas\\core\\nanops.py:96\u001b[0m, in \u001b[0;36mdisallow.__call__.<locals>._f\u001b[1;34m(*args, **kwargs)\u001b[0m\n\u001b[0;32m     94\u001b[0m \u001b[39mtry\u001b[39;00m:\n\u001b[0;32m     95\u001b[0m     \u001b[39mwith\u001b[39;00m np\u001b[39m.\u001b[39merrstate(invalid\u001b[39m=\u001b[39m\u001b[39m\"\u001b[39m\u001b[39mignore\u001b[39m\u001b[39m\"\u001b[39m):\n\u001b[1;32m---> 96\u001b[0m         \u001b[39mreturn\u001b[39;00m f(\u001b[39m*\u001b[39;49margs, \u001b[39m*\u001b[39;49m\u001b[39m*\u001b[39;49mkwargs)\n\u001b[0;32m     97\u001b[0m \u001b[39mexcept\u001b[39;00m \u001b[39mValueError\u001b[39;00m \u001b[39mas\u001b[39;00m e:\n\u001b[0;32m     98\u001b[0m     \u001b[39m# we want to transform an object array\u001b[39;00m\n\u001b[0;32m     99\u001b[0m     \u001b[39m# ValueError message to the more typical TypeError\u001b[39;00m\n\u001b[0;32m    100\u001b[0m     \u001b[39m# e.g. this is normally a disallowed function on\u001b[39;00m\n\u001b[0;32m    101\u001b[0m     \u001b[39m# object arrays that contain strings\u001b[39;00m\n\u001b[0;32m    102\u001b[0m     \u001b[39mif\u001b[39;00m is_object_dtype(args[\u001b[39m0\u001b[39m]):\n",
      "File \u001b[1;32mc:\\Users\\david\\OneDrive\\Cursos\\Python\\Python Bootcamp\\python_bootcamp\\.venv\\Lib\\site-packages\\pandas\\core\\nanops.py:158\u001b[0m, in \u001b[0;36mbottleneck_switch.__call__.<locals>.f\u001b[1;34m(values, axis, skipna, **kwds)\u001b[0m\n\u001b[0;32m    156\u001b[0m         result \u001b[39m=\u001b[39m alt(values, axis\u001b[39m=\u001b[39maxis, skipna\u001b[39m=\u001b[39mskipna, \u001b[39m*\u001b[39m\u001b[39m*\u001b[39mkwds)\n\u001b[0;32m    157\u001b[0m \u001b[39melse\u001b[39;00m:\n\u001b[1;32m--> 158\u001b[0m     result \u001b[39m=\u001b[39m alt(values, axis\u001b[39m=\u001b[39;49maxis, skipna\u001b[39m=\u001b[39;49mskipna, \u001b[39m*\u001b[39;49m\u001b[39m*\u001b[39;49mkwds)\n\u001b[0;32m    160\u001b[0m \u001b[39mreturn\u001b[39;00m result\n",
      "File \u001b[1;32mc:\\Users\\david\\OneDrive\\Cursos\\Python\\Python Bootcamp\\python_bootcamp\\.venv\\Lib\\site-packages\\pandas\\core\\nanops.py:421\u001b[0m, in \u001b[0;36m_datetimelike_compat.<locals>.new_func\u001b[1;34m(values, axis, skipna, mask, **kwargs)\u001b[0m\n\u001b[0;32m    418\u001b[0m \u001b[39mif\u001b[39;00m datetimelike \u001b[39mand\u001b[39;00m mask \u001b[39mis\u001b[39;00m \u001b[39mNone\u001b[39;00m:\n\u001b[0;32m    419\u001b[0m     mask \u001b[39m=\u001b[39m isna(values)\n\u001b[1;32m--> 421\u001b[0m result \u001b[39m=\u001b[39m func(values, axis\u001b[39m=\u001b[39;49maxis, skipna\u001b[39m=\u001b[39;49mskipna, mask\u001b[39m=\u001b[39;49mmask, \u001b[39m*\u001b[39;49m\u001b[39m*\u001b[39;49mkwargs)\n\u001b[0;32m    423\u001b[0m \u001b[39mif\u001b[39;00m datetimelike:\n\u001b[0;32m    424\u001b[0m     result \u001b[39m=\u001b[39m _wrap_results(result, orig_values\u001b[39m.\u001b[39mdtype, fill_value\u001b[39m=\u001b[39miNaT)\n",
      "File \u001b[1;32mc:\\Users\\david\\OneDrive\\Cursos\\Python\\Python Bootcamp\\python_bootcamp\\.venv\\Lib\\site-packages\\pandas\\core\\nanops.py:727\u001b[0m, in \u001b[0;36mnanmean\u001b[1;34m(values, axis, skipna, mask)\u001b[0m\n\u001b[0;32m    724\u001b[0m     dtype_count \u001b[39m=\u001b[39m dtype\n\u001b[0;32m    726\u001b[0m count \u001b[39m=\u001b[39m _get_counts(values\u001b[39m.\u001b[39mshape, mask, axis, dtype\u001b[39m=\u001b[39mdtype_count)\n\u001b[1;32m--> 727\u001b[0m the_sum \u001b[39m=\u001b[39m _ensure_numeric(values\u001b[39m.\u001b[39;49msum(axis, dtype\u001b[39m=\u001b[39;49mdtype_sum))\n\u001b[0;32m    729\u001b[0m \u001b[39mif\u001b[39;00m axis \u001b[39mis\u001b[39;00m \u001b[39mnot\u001b[39;00m \u001b[39mNone\u001b[39;00m \u001b[39mand\u001b[39;00m \u001b[39mgetattr\u001b[39m(the_sum, \u001b[39m\"\u001b[39m\u001b[39mndim\u001b[39m\u001b[39m\"\u001b[39m, \u001b[39mFalse\u001b[39;00m):\n\u001b[0;32m    730\u001b[0m     count \u001b[39m=\u001b[39m cast(np\u001b[39m.\u001b[39mndarray, count)\n",
      "File \u001b[1;32mc:\\Users\\david\\OneDrive\\Cursos\\Python\\Python Bootcamp\\python_bootcamp\\.venv\\Lib\\site-packages\\pandas\\core\\nanops.py:1699\u001b[0m, in \u001b[0;36m_ensure_numeric\u001b[1;34m(x)\u001b[0m\n\u001b[0;32m   1696\u001b[0m             x \u001b[39m=\u001b[39m \u001b[39mcomplex\u001b[39m(x)\n\u001b[0;32m   1697\u001b[0m         \u001b[39mexcept\u001b[39;00m \u001b[39mValueError\u001b[39;00m \u001b[39mas\u001b[39;00m err:\n\u001b[0;32m   1698\u001b[0m             \u001b[39m# e.g. \"foo\"\u001b[39;00m\n\u001b[1;32m-> 1699\u001b[0m             \u001b[39mraise\u001b[39;00m \u001b[39mTypeError\u001b[39;00m(\u001b[39mf\u001b[39m\u001b[39m\"\u001b[39m\u001b[39mCould not convert \u001b[39m\u001b[39m{\u001b[39;00mx\u001b[39m}\u001b[39;00m\u001b[39m to numeric\u001b[39m\u001b[39m\"\u001b[39m) \u001b[39mfrom\u001b[39;00m \u001b[39merr\u001b[39;00m\n\u001b[0;32m   1700\u001b[0m \u001b[39mreturn\u001b[39;00m x\n",
      "\u001b[1;31mTypeError\u001b[0m: Could not convert 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 to numeric"
     ]
    }
   ],
   "source": [
    "stars = yelp.groupby('stars').mean()\n",
    "stars"
   ]
  },
  {
   "attachments": {},
   "cell_type": "markdown",
   "metadata": {},
   "source": [
    "**Use the corr() method on that groupby dataframe to produce this dataframe:**"
   ]
  },
  {
   "cell_type": "code",
   "execution_count": null,
   "metadata": {
    "collapsed": false
   },
   "outputs": [
    {
     "data": {
      "text/html": [
       "<div>\n",
       "<table border=\"1\" class=\"dataframe\">\n",
       "  <thead>\n",
       "    <tr style=\"text-align: right;\">\n",
       "      <th></th>\n",
       "      <th>cool</th>\n",
       "      <th>useful</th>\n",
       "      <th>funny</th>\n",
       "      <th>text length</th>\n",
       "    </tr>\n",
       "  </thead>\n",
       "  <tbody>\n",
       "    <tr>\n",
       "      <th>cool</th>\n",
       "      <td>1.000000</td>\n",
       "      <td>-0.743329</td>\n",
       "      <td>-0.944939</td>\n",
       "      <td>-0.857664</td>\n",
       "    </tr>\n",
       "    <tr>\n",
       "      <th>useful</th>\n",
       "      <td>-0.743329</td>\n",
       "      <td>1.000000</td>\n",
       "      <td>0.894506</td>\n",
       "      <td>0.699881</td>\n",
       "    </tr>\n",
       "    <tr>\n",
       "      <th>funny</th>\n",
       "      <td>-0.944939</td>\n",
       "      <td>0.894506</td>\n",
       "      <td>1.000000</td>\n",
       "      <td>0.843461</td>\n",
       "    </tr>\n",
       "    <tr>\n",
       "      <th>text length</th>\n",
       "      <td>-0.857664</td>\n",
       "      <td>0.699881</td>\n",
       "      <td>0.843461</td>\n",
       "      <td>1.000000</td>\n",
       "    </tr>\n",
       "  </tbody>\n",
       "</table>\n",
       "</div>"
      ],
      "text/plain": [
       "                 cool    useful     funny  text length\n",
       "cool         1.000000 -0.743329 -0.944939    -0.857664\n",
       "useful      -0.743329  1.000000  0.894506     0.699881\n",
       "funny       -0.944939  0.894506  1.000000     0.843461\n",
       "text length -0.857664  0.699881  0.843461     1.000000"
      ]
     },
     "execution_count": 106,
     "metadata": {},
     "output_type": "execute_result"
    }
   ],
   "source": [
    "stars.corr()"
   ]
  },
  {
   "attachments": {},
   "cell_type": "markdown",
   "metadata": {},
   "source": [
    "**Then use seaborn to create a heatmap based off that .corr() dataframe:**"
   ]
  },
  {
   "cell_type": "code",
   "execution_count": null,
   "metadata": {
    "collapsed": false
   },
   "outputs": [
    {
     "data": {
      "text/plain": [
       "<matplotlib.axes._subplots.AxesSubplot at 0x120edb828>"
      ]
     },
     "execution_count": 38,
     "metadata": {},
     "output_type": "execute_result"
    },
    {
     "data": {
      "image/png": "[encoded data removed]",
      "text/plain": [
       "<matplotlib.figure.Figure at 0x120edb048>"
      ]
     },
     "metadata": {},
     "output_type": "display_data"
    }
   ],
   "source": [
    "sns.heatmap(stars.corr(),cmap='coolwarm',annot=True)"
   ]
  },
  {
   "attachments": {},
   "cell_type": "markdown",
   "metadata": {},
   "source": [
    "## NLP Classification Task\n",
    "\n",
    "Let's move on to the actual task. To make things a little easier, go ahead and only grab reviews that were either 1 star or 5 stars.\n",
    "\n",
    "**Create a dataframe called yelp_class that contains the columns of yelp dataframe but for only the 1 or 5 star reviews.**"
   ]
  },
  {
   "cell_type": "code",
   "execution_count": null,
   "metadata": {
    "collapsed": true
   },
   "outputs": [],
   "source": [
    "yelp_class = yelp[(yelp.stars==1) | (yelp.stars==5)]"
   ]
  },
  {
   "attachments": {},
   "cell_type": "markdown",
   "metadata": {},
   "source": [
    "** Create two objects X and y. X will be the 'text' column of yelp_class and y will be the 'stars' column of yelp_class. (Your features and target/labels)**"
   ]
  },
  {
   "cell_type": "code",
   "execution_count": null,
   "metadata": {
    "collapsed": true
   },
   "outputs": [],
   "source": [
    "X = yelp_class['text']\n",
    "y = yelp_class['stars']"
   ]
  },
  {
   "attachments": {},
   "cell_type": "markdown",
   "metadata": {},
   "source": [
    "**Import CountVectorizer and create a CountVectorizer object.**"
   ]
  },
  {
   "cell_type": "code",
   "execution_count": null,
   "metadata": {
    "collapsed": true
   },
   "outputs": [],
   "source": [
    "from sklearn.feature_extraction.text import CountVectorizer\n",
    "cv = CountVectorizer()"
   ]
  },
  {
   "attachments": {},
   "cell_type": "markdown",
   "metadata": {},
   "source": [
    "** Use the fit_transform method on the CountVectorizer object and pass in X (the 'text' column). Save this result by overwriting X.**"
   ]
  },
  {
   "cell_type": "code",
   "execution_count": null,
   "metadata": {
    "collapsed": false
   },
   "outputs": [],
   "source": [
    "X = cv.fit_transform(X)"
   ]
  },
  {
   "attachments": {},
   "cell_type": "markdown",
   "metadata": {},
   "source": [
    "## Train Test Split\n",
    "\n",
    "Let's split our data into training and testing data.\n",
    "\n",
    "** Use train_test_split to split up the data into X_train, X_test, y_train, y_test. Use test_size=0.3 and random_state=101 **"
   ]
  },
  {
   "cell_type": "code",
   "execution_count": null,
   "metadata": {
    "collapsed": true
   },
   "outputs": [],
   "source": [
    "from sklearn.model_selection import train_test_split"
   ]
  },
  {
   "cell_type": "code",
   "execution_count": null,
   "metadata": {
    "collapsed": true
   },
   "outputs": [],
   "source": [
    "X_train, X_test, y_train, y_test = train_test_split(X, y,test_size=0.3,random_state=101)"
   ]
  },
  {
   "attachments": {},
   "cell_type": "markdown",
   "metadata": {},
   "source": [
    "## Training a Model\n",
    "\n",
    "Time to train a model!\n",
    "\n",
    "** Import MultinomialNB and create an instance of the estimator and call is nb **"
   ]
  },
  {
   "cell_type": "code",
   "execution_count": null,
   "metadata": {
    "collapsed": true
   },
   "outputs": [],
   "source": [
    "from sklearn.naive_bayes import MultinomialNB\n",
    "nb = MultinomialNB()"
   ]
  },
  {
   "attachments": {},
   "cell_type": "markdown",
   "metadata": {},
   "source": [
    "**Now fit nb using the training data.**"
   ]
  },
  {
   "cell_type": "code",
   "execution_count": null,
   "metadata": {
    "collapsed": false
   },
   "outputs": [
    {
     "data": {
      "text/plain": [
       "MultinomialNB(alpha=1.0, class_prior=None, fit_prior=True)"
      ]
     },
     "execution_count": 123,
     "metadata": {},
     "output_type": "execute_result"
    }
   ],
   "source": [
    "nb.fit(X_train,y_train)"
   ]
  },
  {
   "attachments": {},
   "cell_type": "markdown",
   "metadata": {},
   "source": [
    "## Predictions and Evaluations\n",
    "\n",
    "Time to see how our model did!\n",
    "\n",
    "**Use the predict method off of nb to predict labels from X_test.**"
   ]
  },
  {
   "cell_type": "code",
   "execution_count": null,
   "metadata": {
    "collapsed": true
   },
   "outputs": [],
   "source": [
    "predictions = nb.predict(X_test)"
   ]
  },
  {
   "attachments": {},
   "cell_type": "markdown",
   "metadata": {},
   "source": [
    "** Create a confusion matrix and classification report using these predictions and y_test **"
   ]
  },
  {
   "cell_type": "code",
   "execution_count": null,
   "metadata": {
    "collapsed": true
   },
   "outputs": [],
   "source": [
    "from sklearn.metrics import confusion_matrix,classification_report"
   ]
  },
  {
   "cell_type": "code",
   "execution_count": null,
   "metadata": {
    "collapsed": false
   },
   "outputs": [
    {
     "name": "stdout",
     "output_type": "stream",
     "text": [
      "[[159  69]\n",
      " [ 22 976]]\n",
      "\n",
      "\n",
      "             precision    recall  f1-score   support\n",
      "\n",
      "          1       0.88      0.70      0.78       228\n",
      "          5       0.93      0.98      0.96       998\n",
      "\n",
      "avg / total       0.92      0.93      0.92      1226\n",
      "\n"
     ]
    }
   ],
   "source": [
    "print(confusion_matrix(y_test,predictions))\n",
    "print('\\n')\n",
    "print(classification_report(y_test,predictions))"
   ]
  },
  {
   "attachments": {},
   "cell_type": "markdown",
   "metadata": {},
   "source": [
    "**Great! Let's see what happens if we try to include TF-IDF to this process using a pipeline.**"
   ]
  },
  {
   "attachments": {},
   "cell_type": "markdown",
   "metadata": {},
   "source": [
    "# Using Text Processing\n",
    "\n",
    "** Import TfidfTransformer from sklearn. **"
   ]
  },
  {
   "cell_type": "code",
   "execution_count": null,
   "metadata": {
    "collapsed": true
   },
   "outputs": [],
   "source": [
    "from sklearn.feature_extraction.text import  TfidfTransformer"
   ]
  },
  {
   "attachments": {},
   "cell_type": "markdown",
   "metadata": {},
   "source": [
    "** Import Pipeline from sklearn. **"
   ]
  },
  {
   "cell_type": "code",
   "execution_count": null,
   "metadata": {
    "collapsed": true
   },
   "outputs": [],
   "source": [
    "from sklearn.pipeline import Pipeline"
   ]
  },
  {
   "attachments": {},
   "cell_type": "markdown",
   "metadata": {},
   "source": [
    "** Now create a pipeline with the following steps:CountVectorizer(), TfidfTransformer(),MultinomialNB()**"
   ]
  },
  {
   "cell_type": "code",
   "execution_count": null,
   "metadata": {
    "collapsed": false
   },
   "outputs": [],
   "source": [
    "pipeline = Pipeline([\n",
    "    ('bow', CountVectorizer()),  # strings to token integer counts\n",
    "    ('tfidf', TfidfTransformer()),  # integer counts to weighted TF-IDF scores\n",
    "    ('classifier', MultinomialNB()),  # train on TF-IDF vectors w/ Naive Bayes classifier\n",
    "])"
   ]
  },
  {
   "attachments": {},
   "cell_type": "markdown",
   "metadata": {},
   "source": [
    "## Using the Pipeline\n",
    "\n",
    "**Time to use the pipeline! Remember this pipeline has all your pre-process steps in it already, meaning we'll need to re-split the original data (Remember that we overwrote X as the CountVectorized version. What we need is just the text**"
   ]
  },
  {
   "attachments": {},
   "cell_type": "markdown",
   "metadata": {},
   "source": [
    "### Train Test Split\n",
    "\n",
    "**Redo the train test split on the yelp_class object.**"
   ]
  },
  {
   "cell_type": "code",
   "execution_count": null,
   "metadata": {
    "collapsed": true
   },
   "outputs": [],
   "source": [
    "X = yelp_class['text']\n",
    "y = yelp_class['stars']\n",
    "X_train, X_test, y_train, y_test = train_test_split(X, y,test_size=0.3,random_state=101)"
   ]
  },
  {
   "attachments": {},
   "cell_type": "markdown",
   "metadata": {},
   "source": [
    "**Now fit the pipeline to the training data. Remember you can't use the same training data as last time because that data has already been vectorized. We need to pass in just the text and labels**"
   ]
  },
  {
   "cell_type": "code",
   "execution_count": null,
   "metadata": {
    "collapsed": false
   },
   "outputs": [
    {
     "data": {
      "text/plain": [
       "Pipeline(steps=[('bow', CountVectorizer(analyzer='word', binary=False, decode_error='strict',\n",
       "        dtype=<class 'numpy.int64'>, encoding='utf-8', input='content',\n",
       "        lowercase=True, max_df=1.0, max_features=None, min_df=1,\n",
       "        ngram_range=(1, 1), preprocessor=None, stop_words=None,\n",
       "        strip_...f=False, use_idf=True)), ('classifier', MultinomialNB(alpha=1.0, class_prior=None, fit_prior=True))])"
      ]
     },
     "execution_count": 159,
     "metadata": {},
     "output_type": "execute_result"
    }
   ],
   "source": [
    "# May take some time\n",
    "pipeline.fit(X_train,y_train)"
   ]
  },
  {
   "attachments": {},
   "cell_type": "markdown",
   "metadata": {},
   "source": [
    "### Predictions and Evaluation\n",
    "\n",
    "** Now use the pipeline to predict from the X_test and create a classification report and confusion matrix. You should notice strange results.**"
   ]
  },
  {
   "attachments": {},
   "cell_type": "markdown",
   "metadata": {},
   "source": []
  },
  {
   "cell_type": "code",
   "execution_count": null,
   "metadata": {
    "collapsed": false
   },
   "outputs": [],
   "source": [
    "predictions = pipeline.predict(X_test)"
   ]
  },
  {
   "cell_type": "code",
   "execution_count": null,
   "metadata": {
    "collapsed": false
   },
   "outputs": [
    {
     "name": "stdout",
     "output_type": "stream",
     "text": [
      "[[  0 228]\n",
      " [  0 998]]\n",
      "             precision    recall  f1-score   support\n",
      "\n",
      "          1       0.00      0.00      0.00       228\n",
      "          5       0.81      1.00      0.90       998\n",
      "\n",
      "avg / total       0.66      0.81      0.73      1226\n",
      "\n"
     ]
    },
    {
     "name": "stderr",
     "output_type": "stream",
     "text": [
      "/Users/marci/anaconda/lib/python3.5/site-packages/sklearn/metrics/classification.py:1074: UndefinedMetricWarning: Precision and F-score are ill-defined and being set to 0.0 in labels with no predicted samples.\n",
      "  'precision', 'predicted', average, warn_for)\n"
     ]
    }
   ],
   "source": [
    "print(confusion_matrix(y_test,predictions))\n",
    "print(classification_report(y_test,predictions))"
   ]
  },
  {
   "attachments": {},
   "cell_type": "markdown",
   "metadata": {},
   "source": [
    "Looks like Tf-Idf actually made things worse! That is it for this project. But there is still a lot more you can play with:\n",
    "\n",
    "**Some other things to try....**\n",
    "Try going back and playing around with the pipeline steps and seeing if creating a custom analyzer like we did in the lecture helps (note: it probably won't). Or recreate the pipeline with just the CountVectorizer() and NaiveBayes. Does changing the ML model at the end to another classifier help at all?"
   ]
  },
  {
   "attachments": {},
   "cell_type": "markdown",
   "metadata": {},
   "source": [
    "# Great Job!"
   ]
  }
 ],
 "metadata": {
  "kernelspec": {
   "display_name": "Python 3",
   "language": "python",
   "name": "python3"
  },
  "language_info": {
   "codemirror_mode": {
    "name": "ipython",
    "version": 3
   },
   "file_extension": ".py",
   "mimetype": "text/x-python",
   "name": "python",
   "nbconvert_exporter": "python",
   "pygments_lexer": "ipython3",
   "version": "3.11.4"
  }
 },
 "nbformat": 4,
 "nbformat_minor": 0
}
